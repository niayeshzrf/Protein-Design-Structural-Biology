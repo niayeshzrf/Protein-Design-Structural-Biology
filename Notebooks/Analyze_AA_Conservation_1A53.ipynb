{
 "cells": [
  {
   "cell_type": "markdown",
   "id": "9f6f290b",
   "metadata": {},
   "source": [
    "# This notebook aims to analyse the file coming from the script score_conservation.py"
   ]
  },
  {
   "cell_type": "code",
   "execution_count": 1,
   "id": "1bd7e97e",
   "metadata": {},
   "outputs": [],
   "source": [
    "import os\n",
    "from matplotlib import pyplot as plt\n",
    "import pandas as pd"
   ]
  },
  {
   "cell_type": "code",
   "execution_count": 3,
   "id": "58818c74",
   "metadata": {},
   "outputs": [],
   "source": [
    "# This section is for 1A53 Core \n",
    "directory = \"/Volumes/Nia_HardDrive/Distal/1A53_Core/Blast/\"\n",
    "colnames = ['Residue_Number','Score','Residue_Identities']\n",
    "df = pd.read_csv(directory + '1A53_Core_Scores.txt',  sep='\\t',comment='#',header=None,names = colnames)\n",
    "df['Residue_Number'] = df['Residue_Number'] +1"
   ]
  },
  {
   "cell_type": "code",
   "execution_count": 4,
   "id": "9d84953c",
   "metadata": {},
   "outputs": [
    {
     "data": {
      "text/html": [
       "<div>\n",
       "<style scoped>\n",
       "    .dataframe tbody tr th:only-of-type {\n",
       "        vertical-align: middle;\n",
       "    }\n",
       "\n",
       "    .dataframe tbody tr th {\n",
       "        vertical-align: top;\n",
       "    }\n",
       "\n",
       "    .dataframe thead th {\n",
       "        text-align: right;\n",
       "    }\n",
       "</style>\n",
       "<table border=\"1\" class=\"dataframe\">\n",
       "  <thead>\n",
       "    <tr style=\"text-align: right;\">\n",
       "      <th></th>\n",
       "      <th>Residue_Number</th>\n",
       "      <th>Score</th>\n",
       "      <th>Residue_Identities</th>\n",
       "    </tr>\n",
       "  </thead>\n",
       "  <tbody>\n",
       "    <tr>\n",
       "      <th>0</th>\n",
       "      <td>1</td>\n",
       "      <td>-1000.0</td>\n",
       "      <td>PPPPPPPPPPPPPPPPPPPPPPPPPPPPPPPPPPPPPPP-PPPPP-...</td>\n",
       "    </tr>\n",
       "    <tr>\n",
       "      <th>1</th>\n",
       "      <td>2</td>\n",
       "      <td>-1000.0</td>\n",
       "      <td>RRRRRRRRRRRRRRRRRRRRRRRRRRRRRRRRRRRRRRR-RRRRR-...</td>\n",
       "    </tr>\n",
       "    <tr>\n",
       "      <th>2</th>\n",
       "      <td>3</td>\n",
       "      <td>-1000.0</td>\n",
       "      <td>YYYYYYYYYYYYYYYYYYYYYYYYYYYYYYYYYYYYYYY-YYYYY-...</td>\n",
       "    </tr>\n",
       "    <tr>\n",
       "      <th>3</th>\n",
       "      <td>4</td>\n",
       "      <td>-1000.0</td>\n",
       "      <td>LLLLLLLLLLLLLLLLLLLLLLLLLLLLLLLLLLLLLLL-LLLLL-...</td>\n",
       "    </tr>\n",
       "    <tr>\n",
       "      <th>4</th>\n",
       "      <td>5</td>\n",
       "      <td>-1000.0</td>\n",
       "      <td>KKKKKKKKKKKKKKKKKKKKKKKKKKKKKKKKKKKKKKK-KKKKK-...</td>\n",
       "    </tr>\n",
       "    <tr>\n",
       "      <th>...</th>\n",
       "      <td>...</td>\n",
       "      <td>...</td>\n",
       "      <td>...</td>\n",
       "    </tr>\n",
       "    <tr>\n",
       "      <th>255</th>\n",
       "      <td>256</td>\n",
       "      <td>-1000.0</td>\n",
       "      <td>HH--------------------------------------------...</td>\n",
       "    </tr>\n",
       "    <tr>\n",
       "      <th>256</th>\n",
       "      <td>257</td>\n",
       "      <td>-1000.0</td>\n",
       "      <td>HH--------------------------------------------...</td>\n",
       "    </tr>\n",
       "    <tr>\n",
       "      <th>257</th>\n",
       "      <td>258</td>\n",
       "      <td>-1000.0</td>\n",
       "      <td>HH--------------------------------------------...</td>\n",
       "    </tr>\n",
       "    <tr>\n",
       "      <th>258</th>\n",
       "      <td>259</td>\n",
       "      <td>-1000.0</td>\n",
       "      <td>HH--------------------------------------------...</td>\n",
       "    </tr>\n",
       "    <tr>\n",
       "      <th>259</th>\n",
       "      <td>260</td>\n",
       "      <td>-1000.0</td>\n",
       "      <td>HH--------------------------------------------...</td>\n",
       "    </tr>\n",
       "  </tbody>\n",
       "</table>\n",
       "<p>260 rows × 3 columns</p>\n",
       "</div>"
      ],
      "text/plain": [
       "     Residue_Number   Score                                 Residue_Identities\n",
       "0                 1 -1000.0  PPPPPPPPPPPPPPPPPPPPPPPPPPPPPPPPPPPPPPP-PPPPP-...\n",
       "1                 2 -1000.0  RRRRRRRRRRRRRRRRRRRRRRRRRRRRRRRRRRRRRRR-RRRRR-...\n",
       "2                 3 -1000.0  YYYYYYYYYYYYYYYYYYYYYYYYYYYYYYYYYYYYYYY-YYYYY-...\n",
       "3                 4 -1000.0  LLLLLLLLLLLLLLLLLLLLLLLLLLLLLLLLLLLLLLL-LLLLL-...\n",
       "4                 5 -1000.0  KKKKKKKKKKKKKKKKKKKKKKKKKKKKKKKKKKKKKKK-KKKKK-...\n",
       "..              ...     ...                                                ...\n",
       "255             256 -1000.0  HH--------------------------------------------...\n",
       "256             257 -1000.0  HH--------------------------------------------...\n",
       "257             258 -1000.0  HH--------------------------------------------...\n",
       "258             259 -1000.0  HH--------------------------------------------...\n",
       "259             260 -1000.0  HH--------------------------------------------...\n",
       "\n",
       "[260 rows x 3 columns]"
      ]
     },
     "execution_count": 4,
     "metadata": {},
     "output_type": "execute_result"
    }
   ],
   "source": [
    "df"
   ]
  },
  {
   "cell_type": "code",
   "execution_count": 5,
   "id": "6298381e",
   "metadata": {},
   "outputs": [
    {
     "name": "stdout",
     "output_type": "stream",
     "text": [
      "177 43 40\n"
     ]
    },
    {
     "data": {
      "text/plain": [
       "<BarContainer object of 260 artists>"
      ]
     },
     "execution_count": 5,
     "metadata": {},
     "output_type": "execute_result"
    },
    {
     "data": {
      "image/png": "[encoded data removed]",
      "text/plain": [
       "<Figure size 1000x500 with 1 Axes>"
      ]
     },
     "metadata": {},
     "output_type": "display_data"
    }
   ],
   "source": [
    "fig = plt.figure(figsize = (10, 5))\n",
    "col = []\n",
    "y = df['Score']\n",
    "\n",
    "varied = 0\n",
    "con_var = 0\n",
    "conserved = 0\n",
    "\n",
    "\n",
    "for val in y:\n",
    "    if val <= 0.5: #below 0.5 is varied\n",
    "        col.append('red')\n",
    "        varied +=1\n",
    "    elif val >= 0.6: # above 0.6 is conserved\n",
    "        col.append('green')\n",
    "        conserved +=1\n",
    "    else: \n",
    "        col.append('blue')\n",
    "        con_var +=1\n",
    "\n",
    "print(varied,conserved,con_var)\n",
    "\n",
    "plt.ylim(0,1)\n",
    "plt.bar(df['Residue_Number'],df['Score'],color=col)"
   ]
  },
  {
   "cell_type": "code",
   "execution_count": 110,
   "id": "b54de6fd",
   "metadata": {},
   "outputs": [],
   "source": [
    "# Function to give % of each amino acid in the input alignment\n",
    "def compute_percentage(input_str):\n",
    "    # Initialize an empty dictionary to store character counts\n",
    "    char_counts = {}\n",
    "\n",
    "    # Count the occurrences of each character\n",
    "    for char in input_str:\n",
    "        if char in char_counts:\n",
    "            char_counts[char] += 1\n",
    "        else:\n",
    "            char_counts[char] = 1\n",
    "\n",
    "    # Compute the percentage for each character\n",
    "    total_length = len(input_str)\n",
    "    char_percentages = {char: (count / total_length) * 100 for char, count in char_counts.items()}\n",
    "\n",
    "    return char_percentages\n",
    "\n"
   ]
  },
  {
   "cell_type": "code",
   "execution_count": 6,
   "id": "b5b0979a",
   "metadata": {},
   "outputs": [
    {
     "name": "stdout",
     "output_type": "stream",
     "text": [
      "177 43 40\n"
     ]
    }
   ],
   "source": [
    "# Get list of residues that you know is gonna be okay to mutate\n",
    "\n",
    "varied_residues = []\n",
    "convar_residues = []\n",
    "conserved_residues = []\n",
    "\n",
    "\n",
    "varied = 0\n",
    "convar = 0\n",
    "conserved = 0\n",
    "\n",
    "\n",
    "for i in range(len(df)):\n",
    "    \n",
    "    if df['Score'][i] <= 0.5: #below 0.5 is varied\n",
    "        varied +=1\n",
    "        varied_residues.append(df['Residue_Number'][i])\n",
    "    \n",
    "    elif df['Score'][i] >= 0.6: #above 0.6 is conserved\n",
    "        conserved_residues.append(df['Residue_Number'][i])\n",
    "        conserved +=1\n",
    "    \n",
    "    else: \n",
    "        convar_residues.append(df['Residue_Number'][i])\n",
    "        convar +=1\n",
    "\n",
    "\n",
    "print(varied,conserved,convar)\n"
   ]
  },
  {
   "cell_type": "code",
   "execution_count": 2,
   "id": "34094687",
   "metadata": {},
   "outputs": [
    {
     "data": {
      "text/plain": [
       "201"
      ]
     },
     "execution_count": 2,
     "metadata": {},
     "output_type": "execute_result"
    }
   ],
   "source": [
    "# Make a list of distal residues\n",
    "distal_file = \"/Volumes/Nia_HardDrive/Distal/1A53_Core/1A53_Core_Distal_Positions.txt\"\n",
    "with open(distal_file,'r') as dist:\n",
    "    distal_residues = dist.read().splitlines()\n",
    "distal_residues=[int(x) for x in distal_residues]\n",
    "len(distal_residues)"
   ]
  },
  {
   "cell_type": "code",
   "execution_count": 8,
   "id": "6f50ef0d",
   "metadata": {},
   "outputs": [
    {
     "name": "stdout",
     "output_type": "stream",
     "text": [
      "217\n",
      "191\n"
     ]
    }
   ],
   "source": [
    "# Find which residues are both Distal and non-conserved!\n",
    "\n",
    "non_conserved = varied_residues + convar_residues\n",
    "print(len(non_conserved))\n",
    "\n",
    "Distal_NonConserved = []\n",
    "for element in distal_residues:\n",
    "    if element in non_conserved:\n",
    "        Distal_NonConserved.append(element)\n",
    " \n",
    "#print(Distal_NonConserved)\n",
    "print(len(Distal_NonConserved))\n"
   ]
  },
  {
   "cell_type": "code",
   "execution_count": 3,
   "id": "6b0d4535",
   "metadata": {},
   "outputs": [
    {
     "name": "stdout",
     "output_type": "stream",
     "text": [
      "41\n"
     ]
    }
   ],
   "source": [
    "#  Make a list of distal residues\n",
    "# Define the file name\n",
    "file_name = \"/Volumes/Nia_HardDrive/Distal/1A53_Core/1A53_Core_Unbound_SPM.txt\"\n",
    "\n",
    "# Create an empty set to store unique residues\n",
    "unique_residues = set()\n",
    "\n",
    "# Open and read the file\n",
    "with open(file_name, 'r') as f:\n",
    "    next(f)  # skip the header\n",
    "    for line in f:\n",
    "        # Split the line by spaces and extract the residues\n",
    "        residue1, residue2 = line.split()[0], line.split()[1]\n",
    "        \n",
    "        # Add the residues to the set\n",
    "        unique_residues.add(residue1)\n",
    "        unique_residues.add(residue2)\n",
    "\n",
    "# Convert the set to a list\n",
    "SPM_residues = list(unique_residues)\n",
    "print(len(SPM_residues))\n",
    "SPM_residues=[int(x) for x in SPM_residues]\n",
    "\n"
   ]
  },
  {
   "cell_type": "code",
   "execution_count": 4,
   "id": "aa719f9c",
   "metadata": {},
   "outputs": [
    {
     "name": "stdout",
     "output_type": "stream",
     "text": [
      "17\n"
     ]
    }
   ],
   "source": [
    "# Find which residues are both Distal and SPM!\n",
    "\n",
    "\n",
    "Distal_SPM = []\n",
    "for element in distal_residues:\n",
    "    if element in SPM_residues:\n",
    "        Distal_SPM.append(element)\n",
    " \n",
    "print(len(Distal_SPM))\n"
   ]
  },
  {
   "cell_type": "code",
   "execution_count": 11,
   "id": "0e3b976b",
   "metadata": {},
   "outputs": [],
   "source": [
    "# Write pymol script to visualize Distal_SPM and Distal_NonConserved!\n",
    "\n",
    "with open(\"/Volumes/Nia_HardDrive/Distal/1A53_Core/Visualize_Design.py\",'w') as pymol_file:\n",
    "    pymol_file.write('''# How I selected Distal positions for 1A53_Core\n",
    "cmd.load(\"1A53_Core_Bound_Renum.pdb\",\"1A53_Core_Bound_Renum\")\n",
    "\n",
    "# Remove alternate conformations\n",
    "cmd.create(\"alternateA\",\"1A53_Core_Bound_Renum and not alt 'B'\")\n",
    "\n",
    "# Core is defined all residues that have any atom within 8 A of TSA\n",
    "cmd.select(\"Core\", \"byres alternateA within 8 of resn 6NT\")\n",
    "\n",
    "# Distal is anything that is not core\n",
    "cmd.select(\"Distal\",\"alternateA and not Core\")\n",
    "\n",
    "# Now let's show the Distal_NonConserved\n",
    "cmd.select(\"Distal_NonConserved\",\"resi %s\") \n",
    "\n",
    "# Now let's show the Distal_NonConserved\n",
    "cmd.select(\"Distal_SPM\",\"resi %s\") \n",
    "\n",
    "cmd.show('spheres','Distal_NonConserved and name ca')\n",
    "cmd.show('spheres','Distal_SPM and name ca')\n",
    "\n",
    "cmd.color('pink','Distal_NonConserved')\n",
    "cmd.color('blue','Distal_SPM')\n",
    "\n",
    "\n",
    "\n",
    "\n",
    "''' %(str('+'.join(map(str,Distal_NonConserved))),str('+'.join(map(str,Distal_SPM)))))\n",
    "    \n"
   ]
  },
  {
   "cell_type": "code",
   "execution_count": 157,
   "id": "031297a6",
   "metadata": {},
   "outputs": [
    {
     "data": {
      "text/plain": [
       "'/Volumes/Nia_HardDrive/Distal/HG3_Core/Blast'"
      ]
     },
     "execution_count": 157,
     "metadata": {},
     "output_type": "execute_result"
    }
   ],
   "source": [
    "pwd"
   ]
  },
  {
   "cell_type": "code",
   "execution_count": 14,
   "id": "3cd55be0",
   "metadata": {},
   "outputs": [],
   "source": [
    "# Write two types of PMPNN Submission List\n",
    "\n",
    "with open(\"/Volumes/Nia_HardDrive/Distal/1A53_Core/PMPNN/1A53_Core_Distal_Nonconserved_PMPNN.sh\",'w') as infile:\n",
    "            infile.write('''#!/bin/bash\n",
    "#SBATCH --account=def-rchica\n",
    "#SBATCH --gpus-per-node=1\n",
    "#SBATCH --mem=10G               # memory per node\n",
    "#SBATCH --time=0-01:00\n",
    "#SBATCH --output=%s_NC.out\n",
    "\n",
    "source /home/niayesh/ProteinMPNN/mlfold/bin/activate\n",
    "\n",
    "folder_with_pdbs=\"/home/niayesh/scratch/Distal/P_Input/%s_NC/\"\n",
    "\n",
    "output_dir=\"/home/niayesh/scratch/Distal/P_Output/%s_NC/\"\n",
    "if [ ! -d $output_dir ]\n",
    "then\n",
    "    mkdir -p $output_dir\n",
    "fi\n",
    "\n",
    "path_for_parsed_chains=$output_dir\"/parsed_pdbs.jsonl\"\n",
    "path_for_assigned_chains=$output_dir\"/assigned_pdbs.jsonl\"\n",
    "path_for_fixed_positions=$output_dir\"/fixed_pdbs.jsonl\"\n",
    "\n",
    "chains_to_design=\"A\"\n",
    "\n",
    "#The first amino acid in the chain corresponds to 1 and not PDB residues index for now.\n",
    "design_positions=\"%s\" ##design only these residues; use flag --specify_non_fixed\n",
    "\n",
    "\n",
    "python /home/niayesh/ProteinMPNN/helper_scripts/parse_multiple_chains.py --input_path=$folder_with_pdbs --output_path=$path_for_parsed_chains\n",
    "\n",
    "python /home/niayesh/ProteinMPNN/helper_scripts/assign_fixed_chains.py --input_path=$path_for_parsed_chains --output_path=$path_for_assigned_chains --chain_list \"$chains_to_fix\"\n",
    "\n",
    "python /home/niayesh/ProteinMPNN/helper_scripts/make_fixed_positions_dict.py --input_path=$path_for_parsed_chains --output_path=$path_for_fixed_positions --chain_list \"$chains_to_design\" --position_list \"$design_positions\" --specify_non_fixed\n",
    "\n",
    "python /home/niayesh/ProteinMPNN/protein_mpnn_run.py \\\\\n",
    "        --jsonl_path $path_for_parsed_chains \\\\\n",
    "        --chain_id_jsonl $path_for_assigned_chains \\\\\n",
    "        --fixed_positions_jsonl $path_for_fixed_positions \\\\\n",
    "        --out_folder $output_dir \\\\\n",
    "        --num_seq_per_target 10 \\\\\n",
    "        --sampling_temp \"0.1\" \\\\\n",
    "        --batch_size 1\n",
    "''' % (\"1A53_Core\",\"1A53_Core\",\"1A53_Core\",str(' '.join(map(str,Distal_NonConserved)))))"
   ]
  },
  {
   "cell_type": "code",
   "execution_count": 13,
   "id": "ff1274a5",
   "metadata": {},
   "outputs": [],
   "source": [
    "# Write two types of PMPNN Submission List\n",
    "\n",
    "with open(\"/Volumes/Nia_HardDrive/Distal/1A53_Core/PMPNN/1A53_Core_Distal_SPM_PMPNN.sh\",'w') as infile:\n",
    "            infile.write('''#!/bin/bash\n",
    "#SBATCH --account=def-rchica\n",
    "#SBATCH --gpus-per-node=1\n",
    "#SBATCH --mem=10G               # memory per node\n",
    "#SBATCH --time=01-00:00\n",
    "#SBATCH --output=%s_SPM.out\n",
    "\n",
    "source /home/niayesh/ProteinMPNN/mlfold/bin/activate\n",
    "\n",
    "folder_with_pdbs=\"/home/niayesh/scratch/Distal/P_Input/%s_SPM/\"\n",
    "\n",
    "output_dir=\"/home/niayesh/scratch/Distal/P_Output/%s_SPM/\"\n",
    "if [ ! -d $output_dir ]\n",
    "then\n",
    "    mkdir -p $output_dir\n",
    "fi\n",
    "\n",
    "path_for_parsed_chains=$output_dir\"/parsed_pdbs.jsonl\"\n",
    "path_for_assigned_chains=$output_dir\"/assigned_pdbs.jsonl\"\n",
    "path_for_fixed_positions=$output_dir\"/fixed_pdbs.jsonl\"\n",
    "\n",
    "chains_to_design=\"A\"\n",
    "\n",
    "#The first amino acid in the chain corresponds to 1 and not PDB residues index for now.\n",
    "design_positions=\"%s\" ##design only these residues; use flag --specify_non_fixed\n",
    "\n",
    "\n",
    "python /home/niayesh/ProteinMPNN/helper_scripts/parse_multiple_chains.py --input_path=$folder_with_pdbs --output_path=$path_for_parsed_chains\n",
    "\n",
    "python /home/niayesh/ProteinMPNN/helper_scripts/assign_fixed_chains.py --input_path=$path_for_parsed_chains --output_path=$path_for_assigned_chains --chain_list \"$chains_to_fix\"\n",
    "\n",
    "python /home/niayesh/ProteinMPNN/helper_scripts/make_fixed_positions_dict.py --input_path=$path_for_parsed_chains --output_path=$path_for_fixed_positions --chain_list \"$chains_to_design\" --position_list \"$design_positions\" --specify_non_fixed\n",
    "\n",
    "python /home/niayesh/ProteinMPNN/protein_mpnn_run.py \\\\\n",
    "        --jsonl_path $path_for_parsed_chains \\\\\n",
    "        --chain_id_jsonl $path_for_assigned_chains \\\\\n",
    "        --fixed_positions_jsonl $path_for_fixed_positions \\\\\n",
    "        --out_folder $output_dir \\\\\n",
    "        --num_seq_per_target 10000 \\\\\n",
    "        --sampling_temp \"0.1\" \\\\\n",
    "        --batch_size 1\n",
    "''' % (\"1A53_Core\",\"1A53_Core\",\"1A53_Core\",str(' '.join(map(str,Distal_SPM)))))"
   ]
  },
  {
   "cell_type": "code",
   "execution_count": null,
   "id": "897b12b2",
   "metadata": {},
   "outputs": [],
   "source": []
  }
 ],
 "metadata": {
  "kernelspec": {
   "display_name": "Python 3 (ipykernel)",
   "language": "python",
   "name": "python3"
  },
  "language_info": {
   "codemirror_mode": {
    "name": "ipython",
    "version": 3
   },
   "file_extension": ".py",
   "mimetype": "text/x-python",
   "name": "python",
   "nbconvert_exporter": "python",
   "pygments_lexer": "ipython3",
   "version": "3.9.13"
  }
 },
 "nbformat": 4,
 "nbformat_minor": 5
}
